{
 "cells": [
  {
   "cell_type": "code",
   "execution_count": 2,
   "metadata": {
    "collapsed": false
   },
   "outputs": [
    {
     "name": "stderr",
     "output_type": "stream",
     "text": [
      "Using TensorFlow backend.\n"
     ]
    }
   ],
   "source": [
    "import numpy as np\n",
    "import pandas as pd\n",
    "import datetime\n",
    "from matplotlib import pyplot as plt\n",
    "%matplotlib inline \n",
    "from gensim.models import word2vec"
   ]
  },
  {
   "cell_type": "code",
   "execution_count": 3,
   "metadata": {
    "collapsed": false
   },
   "outputs": [],
   "source": [
    "\n",
    "w2v_model = word2vec.Word2Vec.load('./w2v_model')"
   ]
  },
  {
   "cell_type": "code",
   "execution_count": 4,
   "metadata": {
    "collapsed": false
   },
   "outputs": [],
   "source": [
    "data = pd.read_json('./chinese_restaurants_review.json', lines=True).sample(frac = 0.3,random_state = 1024 )\n",
    "data = data[['text','stars']]"
   ]
  },
  {
   "cell_type": "code",
   "execution_count": 5,
   "metadata": {
    "collapsed": false
   },
   "outputs": [
    {
     "name": "stdout",
     "output_type": "stream",
     "text": [
      "('Total time spent:', 86.55466985702515)\n"
     ]
    }
   ],
   "source": [
    "# get token and stemming, also remove punctuation\n",
    "import nltk\n",
    "import string\n",
    "import time\n",
    "from nltk.stem import PorterStemmer\n",
    "from nltk.corpus import stopwords\n",
    "ps = PorterStemmer()\n",
    "def token(x):\n",
    "    \n",
    "    x = x.lower()\n",
    "    token = nltk.word_tokenize(x)\n",
    "    \n",
    "    # remove stop words\n",
    "    stopWords = set(stopwords.words('english'))\n",
    "    token = [x for x in token if x not in stopWords]\n",
    "    \n",
    "    # transform each token into string and remove punctuation\n",
    "    t = [x.encode('utf-8').translate(None, string.punctuation) for x in token ]\n",
    "    \n",
    "    # after removing punctuation, some token may become ' '\n",
    "    return [x for x in t if x != '']\n",
    "\n",
    "begin = time.time()\n",
    "data['token'] = data.text.apply(lambda x: token(x))\n",
    "print ('Total time spent:', time.time() - begin)"
   ]
  },
  {
   "cell_type": "code",
   "execution_count": 6,
   "metadata": {
    "collapsed": false
   },
   "outputs": [],
   "source": [
    "# make a set of words we have learned in model\n",
    "word_set = set(w2v_model.wv.index2word)"
   ]
  },
  {
   "cell_type": "code",
   "execution_count": 7,
   "metadata": {
    "collapsed": true
   },
   "outputs": [],
   "source": [
    "num_features = 300"
   ]
  },
  {
   "cell_type": "code",
   "execution_count": 8,
   "metadata": {
    "collapsed": false
   },
   "outputs": [
    {
     "name": "stdout",
     "output_type": "stream",
     "text": [
      "('Total time spent:', 223.88262915611267)\n"
     ]
    }
   ],
   "source": [
    "# transform each word in token into feature vector (300,) trained by w2v_model\n",
    "# If a review has less than 100 words, we pad it into length 100 with np.zeros(300)\n",
    "# So in embedd_token, every review is of length exactly 100\n",
    "\n",
    "\n",
    "\n",
    "def getEmbedding(token):\n",
    "    \n",
    "    \n",
    "    \n",
    "    # replace words in token by its corresponding embedding vector\n",
    "    embedding_list = []\n",
    "    \n",
    "    i = 0\n",
    "    \n",
    "    for x in token:\n",
    "        if i >= 40: break\n",
    "        if x in word_set:\n",
    "            embedding_list.extend(w2v_model[x])\n",
    "            i += 1\n",
    "    # do nothing if the text review has no words in w2v_model we trained\n",
    "    if i> 0: \n",
    "        while i < 40: \n",
    "            embedding_list.extend(np.zeros(300))\n",
    "            i += 1\n",
    "       \n",
    "    \n",
    "    return embedding_list\n",
    "begin = time.time()\n",
    "data['embed_token'] = data.token.apply(lambda token: getEmbedding(token))\n",
    "print ('Total time spent:', time.time() - begin)"
   ]
  },
  {
   "cell_type": "code",
   "execution_count": 9,
   "metadata": {
    "collapsed": false
   },
   "outputs": [],
   "source": [
    "# remove data with text review having no words in w2v_model we trained\n",
    "\n",
    "data = data[data.embed_token.apply(lambda k: len(k)) != 0]\n",
    "\n"
   ]
  },
  {
   "cell_type": "code",
   "execution_count": 10,
   "metadata": {
    "collapsed": true
   },
   "outputs": [],
   "source": [
    "import tensorflow as tf\n",
    "from sklearn.model_selection import train_test_split"
   ]
  },
  {
   "cell_type": "code",
   "execution_count": 11,
   "metadata": {
    "collapsed": false
   },
   "outputs": [
    {
     "name": "stdout",
     "output_type": "stream",
     "text": [
      "('Total time spent:', 424.09057903289795)\n"
     ]
    }
   ],
   "source": [
    "begin = time.time()\n",
    "embed_token = np.array([k for k in data.embed_token])\n",
    "print ('Total time spent:', time.time() - begin)"
   ]
  },
  {
   "cell_type": "code",
   "execution_count": 12,
   "metadata": {
    "collapsed": false
   },
   "outputs": [],
   "source": [
    "\n",
    "X_train,  X_test, y_train, y_test = train_test_split(embed_token, data['stars'], test_size = 0.3, random_state = 1024)"
   ]
  },
  {
   "cell_type": "code",
   "execution_count": 13,
   "metadata": {
    "collapsed": true
   },
   "outputs": [],
   "source": [
    "# Place holders\n",
    "feature_size = 300\n",
    "hidden_size = 100\n",
    "batch_size = 500\n",
    "n_class = 5\n",
    "\n",
    "# length of each review, if it is shorter \n",
    "text_size = 40\n",
    "\n",
    "\n",
    "n_epoch = 10"
   ]
  },
  {
   "cell_type": "code",
   "execution_count": 14,
   "metadata": {
    "collapsed": false
   },
   "outputs": [],
   "source": [
    "x = tf.placeholder(tf.float64, [None, text_size, feature_size], name = 'x')\n",
    "y = tf.placeholder(tf.float64, [None, 5], name = 'y')"
   ]
  },
  {
   "cell_type": "code",
   "execution_count": 15,
   "metadata": {
    "collapsed": true
   },
   "outputs": [],
   "source": [
    "lstm_cell_1 = tf.contrib.rnn.LSTMCell(hidden_size)\n",
    "lstm_cell_2 = tf.contrib.rnn.LSTMCell(hidden_size)\n",
    "multi_lstm_cells =  tf.contrib.rnn.MultiRNNCell([lstm_cell_1,lstm_cell_2],state_is_tuple=True)\n",
    "_, final_state = tf.nn.dynamic_rnn(multi_lstm_cells, x, dtype=tf.float64)"
   ]
  },
  {
   "cell_type": "code",
   "execution_count": 16,
   "metadata": {
    "collapsed": false
   },
   "outputs": [],
   "source": [
    "def final_layer(input_, output_size):\n",
    "    shape = input_.get_shape().as_list()\n",
    "\n",
    "    output_layer = { 'weight': tf.Variable(tf.random_normal([shape[-1], output_size], dtype=tf.float64)),\n",
    "                'bias' : tf.Variable(tf.random_normal([output_size],dtype=tf.float64))}\n",
    "    return tf.matmul(input_, output_layer['weight']) + output_layer['bias']\n"
   ]
  },
  {
   "cell_type": "code",
   "execution_count": 17,
   "metadata": {
    "collapsed": true
   },
   "outputs": [],
   "source": [
    "def RNN_model(x,y, n_epoch):\n",
    "    sentiment = final_layer(final_state[-1][-1],n_class)\n",
    "    cost = tf.reduce_sum(tf.nn.softmax_cross_entropy_with_logits(logits = sentiment, labels=y))\n",
    "    \n",
    "    optimizer = tf.train.AdamOptimizer().minimize(cost)\n",
    "    \n",
    "    sess = tf.InteractiveSession()\n",
    "    sess.run(tf.global_variables_initializer())\n",
    "    \n",
    "    #test = X_test.reshape((-1,text_size,300))\n",
    "    #one_hot_y_test = tf.one_hot(np.array(y_test-1),5,on_value=1.0, off_value=0.0)\n",
    "    \n",
    "    for epoch in range(n_epoch):\n",
    "        epoch_loss = 0\n",
    "        \n",
    "        # cut into batches\n",
    "        i = 0\n",
    "        while i < len(X_train):\n",
    "            start = i\n",
    "            end = i + batch_size\n",
    "            batch_X = X_train[start: end]\n",
    "            #batch_X = np.array([t for t in batch_X])\n",
    "            batch_X = batch_X.reshape((-1, text_size, 300))\n",
    "            #print batch_X.shape\n",
    "            \n",
    "            # the original y is single numeric labels, we transform into one hot \n",
    "            # but the out put of tf.one_hot is a tensor node, so we need to sess.run(batch_y)\n",
    "            batch_y = \\\n",
    "            tf.one_hot(np.array(y_train[start: end]-1),5,on_value=1.0, off_value=0.0)\n",
    "            \n",
    "            \n",
    "            _, c = sess.run([optimizer, cost],feed_dict={x: batch_X, y:sess.run(batch_y)})\n",
    "            \n",
    "            epoch_loss += c\n",
    "            \n",
    "            i += batch_size\n",
    "        print  ('Epoch:', epoch, 'loss:', epoch_loss)\n",
    "        \n",
    "    \n",
    "        correct = tf.equal(tf.argmax(sentiment,1), tf.argmax(y,1))\n",
    "        accuracy = tf.reduce_mean(tf.cast(correct, 'float'))\n",
    "    \n",
    "        test = X_test.reshape((-1,text_size,300))\n",
    "        one_hot_y_test = tf.one_hot(np.array(y_test-1),5,on_value=1.0, off_value=0.0)\n",
    "        print ('Accuracy', accuracy.eval(feed_dict={x: test, y: sess.run(one_hot_y_test)}))"
   ]
  },
  {
   "cell_type": "code",
   "execution_count": 18,
   "metadata": {
    "collapsed": false
   },
   "outputs": [
    {
     "name": "stdout",
     "output_type": "stream",
     "text": [
      "('Epoch:', 0, 'loss:', 40073.990313059454)\n",
      "('Accuracy', 0.51188368)\n",
      "('Epoch:', 1, 'loss:', 33765.784477474517)\n",
      "('Accuracy', 0.52699536)\n",
      "('Epoch:', 2, 'loss:', 31930.142855675156)\n",
      "('Accuracy', 0.5256474)\n",
      "('Epoch:', 3, 'loss:', 30203.716844114289)\n",
      "('Accuracy', 0.52174532)\n",
      "('Epoch:', 4, 'loss:', 28244.021040716252)\n",
      "('Accuracy', 0.5159986)\n",
      "('Epoch:', 5, 'loss:', 26049.562982238203)\n",
      "('Accuracy', 0.51486343)\n",
      "('Epoch:', 6, 'loss:', 23737.24830912353)\n",
      "('Accuracy', 0.50457609)\n",
      "('Epoch:', 7, 'loss:', 22511.903482129273)\n",
      "('Accuracy', 0.49400496)\n",
      "('Epoch:', 8, 'loss:', 21920.191973164387)\n",
      "('Accuracy', 0.50180918)\n",
      "('Epoch:', 9, 'loss:', 19934.70865172286)\n",
      "('Accuracy', 0.48612982)\n",
      "('Total time spent:', 10150.259814977646)\n"
     ]
    }
   ],
   "source": [
    "begin = time.time()\n",
    "RNN_model(x,y,n_epoch)\n",
    "print ('Total time spent:', time.time() - begin)"
   ]
  },
  {
   "cell_type": "code",
   "execution_count": null,
   "metadata": {
    "collapsed": true
   },
   "outputs": [],
   "source": []
  },
  {
   "cell_type": "code",
   "execution_count": null,
   "metadata": {
    "collapsed": true
   },
   "outputs": [],
   "source": []
  }
 ],
 "metadata": {
  "kernelspec": {
   "display_name": "Python 2",
   "language": "python",
   "name": "python2"
  },
  "language_info": {
   "codemirror_mode": {
    "name": "ipython",
    "version": 2
   },
   "file_extension": ".py",
   "mimetype": "text/x-python",
   "name": "python",
   "nbconvert_exporter": "python",
   "pygments_lexer": "ipython2",
   "version": "2.7.13"
  }
 },
 "nbformat": 4,
 "nbformat_minor": 1
}
